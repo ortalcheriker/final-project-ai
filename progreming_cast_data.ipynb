{
 "cells": [
  {
   "cell_type": "markdown",
   "metadata": {},
   "source": [
    "# Question 1:\n"
   ]
  },
  {
   "cell_type": "code",
   "execution_count": 42,
   "metadata": {},
   "outputs": [],
   "source": [
    "def change_decimal(dec): \n",
    "   ## the input is str , so we change it to int.\n",
    "    decimal = int(dec) \n",
    "## the functions bin(), oct() amd hex() return a string with the type of the number-----> we dont need that/\n",
    "##so after the calculat we take only the value:\n",
    "    # base 2\n",
    "    ans_bin=str(bin(decimal))\n",
    "    print(decimal, \"is equivalent in Binary to: \",ans_bin[2:] )\n",
    "     #base 8\n",
    "    ans_oct=str(oct(decimal))\n",
    "    print(decimal, \"is equivalent in Octal : \",ans_oct[2:]) \n",
    "      # base 16\n",
    "    ans_hex=str(hex(decimal))\n",
    "    print(decimal, \"is equivalent in Hexadecimal : \", ans_hex[2:])\n",
    "    "
   ]
  },
  {
   "cell_type": "markdown",
   "metadata": {},
   "source": [
    "# Question 2:\n"
   ]
  },
  {
   "cell_type": "code",
   "execution_count": 67,
   "metadata": {},
   "outputs": [
    {
     "data": {
      "text/html": [
       "<div>\n",
       "<style scoped>\n",
       "    .dataframe tbody tr th:only-of-type {\n",
       "        vertical-align: middle;\n",
       "    }\n",
       "\n",
       "    .dataframe tbody tr th {\n",
       "        vertical-align: top;\n",
       "    }\n",
       "\n",
       "    .dataframe thead th {\n",
       "        text-align: right;\n",
       "    }\n",
       "</style>\n",
       "<table border=\"1\" class=\"dataframe\">\n",
       "  <thead>\n",
       "    <tr style=\"text-align: right;\">\n",
       "      <th></th>\n",
       "      <th>title</th>\n",
       "      <th>year</th>\n",
       "      <th>name</th>\n",
       "      <th>type</th>\n",
       "      <th>character</th>\n",
       "      <th>n</th>\n",
       "    </tr>\n",
       "  </thead>\n",
       "  <tbody>\n",
       "    <tr>\n",
       "      <th>0</th>\n",
       "      <td>Suuri illusioni</td>\n",
       "      <td>1985</td>\n",
       "      <td>Homo $</td>\n",
       "      <td>actor</td>\n",
       "      <td>Guests</td>\n",
       "      <td>22.0</td>\n",
       "    </tr>\n",
       "    <tr>\n",
       "      <th>1</th>\n",
       "      <td>Gangsta Rap: The Glockumentary</td>\n",
       "      <td>2007</td>\n",
       "      <td>Too $hort</td>\n",
       "      <td>actor</td>\n",
       "      <td>Himself</td>\n",
       "      <td>NaN</td>\n",
       "    </tr>\n",
       "    <tr>\n",
       "      <th>2</th>\n",
       "      <td>Menace II Society</td>\n",
       "      <td>1993</td>\n",
       "      <td>Too $hort</td>\n",
       "      <td>actor</td>\n",
       "      <td>Lew-Loc</td>\n",
       "      <td>27.0</td>\n",
       "    </tr>\n",
       "    <tr>\n",
       "      <th>3</th>\n",
       "      <td>Porndogs: The Adventures of Sadie</td>\n",
       "      <td>2009</td>\n",
       "      <td>Too $hort</td>\n",
       "      <td>actor</td>\n",
       "      <td>Bosco</td>\n",
       "      <td>3.0</td>\n",
       "    </tr>\n",
       "    <tr>\n",
       "      <th>4</th>\n",
       "      <td>Stop Pepper Palmer</td>\n",
       "      <td>2014</td>\n",
       "      <td>Too $hort</td>\n",
       "      <td>actor</td>\n",
       "      <td>Himself</td>\n",
       "      <td>NaN</td>\n",
       "    </tr>\n",
       "    <tr>\n",
       "      <th>5</th>\n",
       "      <td>Townbiz</td>\n",
       "      <td>2010</td>\n",
       "      <td>Too $hort</td>\n",
       "      <td>actor</td>\n",
       "      <td>Himself</td>\n",
       "      <td>NaN</td>\n",
       "    </tr>\n",
       "    <tr>\n",
       "      <th>6</th>\n",
       "      <td>For Thy Love 2</td>\n",
       "      <td>2009</td>\n",
       "      <td>Bee Moe $lim</td>\n",
       "      <td>actor</td>\n",
       "      <td>Thug 1</td>\n",
       "      <td>NaN</td>\n",
       "    </tr>\n",
       "    <tr>\n",
       "      <th>7</th>\n",
       "      <td>Desire (III)</td>\n",
       "      <td>2014</td>\n",
       "      <td>Syaiful 'Ariffin</td>\n",
       "      <td>actor</td>\n",
       "      <td>Actor Playing Eteocles from 'Antigone'</td>\n",
       "      <td>NaN</td>\n",
       "    </tr>\n",
       "    <tr>\n",
       "      <th>8</th>\n",
       "      <td>When the Man Went South</td>\n",
       "      <td>2014</td>\n",
       "      <td>Taipaleti 'Atu'ake</td>\n",
       "      <td>actor</td>\n",
       "      <td>Two Palms - Ua'i Paame</td>\n",
       "      <td>8.0</td>\n",
       "    </tr>\n",
       "    <tr>\n",
       "      <th>9</th>\n",
       "      <td>Little Angel (Angelita)</td>\n",
       "      <td>2015</td>\n",
       "      <td>Michael 'babeepower' Viera</td>\n",
       "      <td>actor</td>\n",
       "      <td>Chico</td>\n",
       "      <td>9.0</td>\n",
       "    </tr>\n",
       "    <tr>\n",
       "      <th>10</th>\n",
       "      <td>Mixing Nia</td>\n",
       "      <td>1998</td>\n",
       "      <td>Michael 'babeepower' Viera</td>\n",
       "      <td>actor</td>\n",
       "      <td>Rapper</td>\n",
       "      <td>NaN</td>\n",
       "    </tr>\n",
       "    <tr>\n",
       "      <th>11</th>\n",
       "      <td>The Replacements</td>\n",
       "      <td>2000</td>\n",
       "      <td>Steven 'Bear'Boyd</td>\n",
       "      <td>actor</td>\n",
       "      <td>Defensive Tackle - Washington Sentinels</td>\n",
       "      <td>NaN</td>\n",
       "    </tr>\n",
       "    <tr>\n",
       "      <th>12</th>\n",
       "      <td>Dysfunktion</td>\n",
       "      <td>2016</td>\n",
       "      <td>Kirlew 'bliss' Vilbon</td>\n",
       "      <td>actor</td>\n",
       "      <td>Bliss</td>\n",
       "      <td>NaN</td>\n",
       "    </tr>\n",
       "    <tr>\n",
       "      <th>13</th>\n",
       "      <td>My Song for You</td>\n",
       "      <td>2010</td>\n",
       "      <td>George 'Bootsy' Thomas</td>\n",
       "      <td>actor</td>\n",
       "      <td>Cooley's Customer</td>\n",
       "      <td>16.0</td>\n",
       "    </tr>\n",
       "    <tr>\n",
       "      <th>14</th>\n",
       "      <td>My Song for You</td>\n",
       "      <td>2010</td>\n",
       "      <td>George 'Bootsy' Thomas</td>\n",
       "      <td>actor</td>\n",
       "      <td>Celebration Guest</td>\n",
       "      <td>16.0</td>\n",
       "    </tr>\n",
       "    <tr>\n",
       "      <th>15</th>\n",
       "      <td>B-Girl</td>\n",
       "      <td>2009</td>\n",
       "      <td>Jesse 'Casper' Brown</td>\n",
       "      <td>actor</td>\n",
       "      <td>Battle Judge</td>\n",
       "      <td>25.0</td>\n",
       "    </tr>\n",
       "    <tr>\n",
       "      <th>16</th>\n",
       "      <td>Battle of the Year</td>\n",
       "      <td>2013</td>\n",
       "      <td>Jesse 'Casper' Brown</td>\n",
       "      <td>actor</td>\n",
       "      <td>Rebel</td>\n",
       "      <td>9.0</td>\n",
       "    </tr>\n",
       "    <tr>\n",
       "      <th>17</th>\n",
       "      <td>Kickin' It Old Skool</td>\n",
       "      <td>2007</td>\n",
       "      <td>Jesse 'Casper' Brown</td>\n",
       "      <td>actor</td>\n",
       "      <td>Cole</td>\n",
       "      <td>10.0</td>\n",
       "    </tr>\n",
       "    <tr>\n",
       "      <th>18</th>\n",
       "      <td>Step Up All In</td>\n",
       "      <td>2014</td>\n",
       "      <td>Jesse 'Casper' Brown</td>\n",
       "      <td>actor</td>\n",
       "      <td>Grim Knight Dancer</td>\n",
       "      <td>61.0</td>\n",
       "    </tr>\n",
       "    <tr>\n",
       "      <th>19</th>\n",
       "      <td>The LXD: The Secrets of the Ra</td>\n",
       "      <td>2011</td>\n",
       "      <td>Jesse 'Casper' Brown</td>\n",
       "      <td>actor</td>\n",
       "      <td>Fangz</td>\n",
       "      <td>NaN</td>\n",
       "    </tr>\n",
       "  </tbody>\n",
       "</table>\n",
       "</div>"
      ],
      "text/plain": [
       "                                title  year                        name  \\\n",
       "0                     Suuri illusioni  1985                      Homo $   \n",
       "1      Gangsta Rap: The Glockumentary  2007                   Too $hort   \n",
       "2                   Menace II Society  1993                   Too $hort   \n",
       "3   Porndogs: The Adventures of Sadie  2009                   Too $hort   \n",
       "4                  Stop Pepper Palmer  2014                   Too $hort   \n",
       "5                             Townbiz  2010                   Too $hort   \n",
       "6                      For Thy Love 2  2009                Bee Moe $lim   \n",
       "7                        Desire (III)  2014            Syaiful 'Ariffin   \n",
       "8             When the Man Went South  2014          Taipaleti 'Atu'ake   \n",
       "9             Little Angel (Angelita)  2015  Michael 'babeepower' Viera   \n",
       "10                         Mixing Nia  1998  Michael 'babeepower' Viera   \n",
       "11                   The Replacements  2000           Steven 'Bear'Boyd   \n",
       "12                        Dysfunktion  2016       Kirlew 'bliss' Vilbon   \n",
       "13                    My Song for You  2010      George 'Bootsy' Thomas   \n",
       "14                    My Song for You  2010      George 'Bootsy' Thomas   \n",
       "15                             B-Girl  2009        Jesse 'Casper' Brown   \n",
       "16                 Battle of the Year  2013        Jesse 'Casper' Brown   \n",
       "17               Kickin' It Old Skool  2007        Jesse 'Casper' Brown   \n",
       "18                     Step Up All In  2014        Jesse 'Casper' Brown   \n",
       "19     The LXD: The Secrets of the Ra  2011        Jesse 'Casper' Brown   \n",
       "\n",
       "     type                                character     n  \n",
       "0   actor                                   Guests  22.0  \n",
       "1   actor                                  Himself   NaN  \n",
       "2   actor                                  Lew-Loc  27.0  \n",
       "3   actor                                    Bosco   3.0  \n",
       "4   actor                                  Himself   NaN  \n",
       "5   actor                                  Himself   NaN  \n",
       "6   actor                                   Thug 1   NaN  \n",
       "7   actor   Actor Playing Eteocles from 'Antigone'   NaN  \n",
       "8   actor                   Two Palms - Ua'i Paame   8.0  \n",
       "9   actor                                    Chico   9.0  \n",
       "10  actor                                   Rapper   NaN  \n",
       "11  actor  Defensive Tackle - Washington Sentinels   NaN  \n",
       "12  actor                                    Bliss   NaN  \n",
       "13  actor                        Cooley's Customer  16.0  \n",
       "14  actor                        Celebration Guest  16.0  \n",
       "15  actor                             Battle Judge  25.0  \n",
       "16  actor                                    Rebel   9.0  \n",
       "17  actor                                     Cole  10.0  \n",
       "18  actor                       Grim Knight Dancer  61.0  \n",
       "19  actor                                    Fangz   NaN  "
      ]
     },
     "execution_count": 67,
     "metadata": {},
     "output_type": "execute_result"
    }
   ],
   "source": [
    "import pandas as pd\n",
    "cast=pd.read_csv('/Users/ortal/Desktop/OneDrive - Ariel University/שיעורים/AI/proiect/cast.csv')\n",
    "cast.head(20)"
   ]
  },
  {
   "cell_type": "markdown",
   "metadata": {},
   "source": [
    "## part 1:\n"
   ]
  },
  {
   "cell_type": "markdown",
   "metadata": {},
   "source": [
    "(in the data there is multiple raws that referance to the same movie, because there is information about the actors. so we \"marge\" them by sorting with droping  all the doplicated years.)\n",
    "\n"
   ]
  },
  {
   "cell_type": "code",
   "execution_count": 98,
   "metadata": {},
   "outputs": [
    {
     "data": {
      "text/plain": [
       "(17, 6)"
      ]
     },
     "execution_count": 98,
     "metadata": {},
     "output_type": "execute_result"
    }
   ],
   "source": [
    "Hamlet_movies=cast.loc[cast['title']=='Hamlet']\n",
    "Hamlet_years=Hamlet_movies.drop_duplicates(subset='year', keep='first')\n",
    "\n",
    "Hamlet_years.shape"
   ]
  },
  {
   "cell_type": "markdown",
   "metadata": {},
   "source": [
    "<b>\n",
    "There is 17 movies with the name \"Hamlet\"."
   ]
  },
  {
   "cell_type": "markdown",
   "metadata": {},
   "source": [
    "## part 2:\n",
    "<b>Treasure Island moovies sorted by yers: <b>\n",
    "    \n",
    "\n",
    "\n",
    "\n"
   ]
  },
  {
   "cell_type": "code",
   "execution_count": 99,
   "metadata": {},
   "outputs": [
    {
     "data": {
      "text/html": [
       "<div>\n",
       "<style scoped>\n",
       "    .dataframe tbody tr th:only-of-type {\n",
       "        vertical-align: middle;\n",
       "    }\n",
       "\n",
       "    .dataframe tbody tr th {\n",
       "        vertical-align: top;\n",
       "    }\n",
       "\n",
       "    .dataframe thead th {\n",
       "        text-align: right;\n",
       "    }\n",
       "</style>\n",
       "<table border=\"1\" class=\"dataframe\">\n",
       "  <thead>\n",
       "    <tr style=\"text-align: right;\">\n",
       "      <th></th>\n",
       "      <th>title</th>\n",
       "      <th>year</th>\n",
       "      <th>name</th>\n",
       "      <th>type</th>\n",
       "      <th>character</th>\n",
       "      <th>n</th>\n",
       "    </tr>\n",
       "  </thead>\n",
       "  <tbody>\n",
       "    <tr>\n",
       "      <th>313097</th>\n",
       "      <td>Treasure Island</td>\n",
       "      <td>1918</td>\n",
       "      <td>Francis Carpenter</td>\n",
       "      <td>actor</td>\n",
       "      <td>Jim Hawkins</td>\n",
       "      <td>1.0</td>\n",
       "    </tr>\n",
       "    <tr>\n",
       "      <th>345942</th>\n",
       "      <td>Treasure Island</td>\n",
       "      <td>1920</td>\n",
       "      <td>Lon Chaney</td>\n",
       "      <td>actor</td>\n",
       "      <td>Blind Pew</td>\n",
       "      <td>5.0</td>\n",
       "    </tr>\n",
       "    <tr>\n",
       "      <th>8570</th>\n",
       "      <td>Treasure Island</td>\n",
       "      <td>1934</td>\n",
       "      <td>Robert Adair</td>\n",
       "      <td>actor</td>\n",
       "      <td>Tom - Seaman</td>\n",
       "      <td>NaN</td>\n",
       "    </tr>\n",
       "    <tr>\n",
       "      <th>12141</th>\n",
       "      <td>Treasure Island</td>\n",
       "      <td>1950</td>\n",
       "      <td>Chris Adcock</td>\n",
       "      <td>actor</td>\n",
       "      <td>Pike</td>\n",
       "      <td>26.0</td>\n",
       "    </tr>\n",
       "    <tr>\n",
       "      <th>38151</th>\n",
       "      <td>Treasure Island</td>\n",
       "      <td>1972</td>\n",
       "      <td>Cristino Almod?var</td>\n",
       "      <td>actor</td>\n",
       "      <td>O'Brien</td>\n",
       "      <td>18.0</td>\n",
       "    </tr>\n",
       "    <tr>\n",
       "      <th>484325</th>\n",
       "      <td>Treasure Island</td>\n",
       "      <td>1973</td>\n",
       "      <td>Richard Dawson</td>\n",
       "      <td>actor</td>\n",
       "      <td>Long John Silver</td>\n",
       "      <td>1.0</td>\n",
       "    </tr>\n",
       "    <tr>\n",
       "      <th>14899</th>\n",
       "      <td>Treasure Island</td>\n",
       "      <td>1985</td>\n",
       "      <td>Yves Afonso</td>\n",
       "      <td>actor</td>\n",
       "      <td>French captain</td>\n",
       "      <td>8.0</td>\n",
       "    </tr>\n",
       "    <tr>\n",
       "      <th>104905</th>\n",
       "      <td>Treasure Island</td>\n",
       "      <td>1999</td>\n",
       "      <td>Lance (II) Baker</td>\n",
       "      <td>actor</td>\n",
       "      <td>Frank</td>\n",
       "      <td>1.0</td>\n",
       "    </tr>\n",
       "  </tbody>\n",
       "</table>\n",
       "</div>"
      ],
      "text/plain": [
       "                  title  year                name   type         character  \\\n",
       "313097  Treasure Island  1918   Francis Carpenter  actor       Jim Hawkins   \n",
       "345942  Treasure Island  1920          Lon Chaney  actor        Blind Pew    \n",
       "8570    Treasure Island  1934        Robert Adair  actor      Tom - Seaman   \n",
       "12141   Treasure Island  1950        Chris Adcock  actor              Pike   \n",
       "38151   Treasure Island  1972  Cristino Almod?var  actor           O'Brien   \n",
       "484325  Treasure Island  1973      Richard Dawson  actor  Long John Silver   \n",
       "14899   Treasure Island  1985         Yves Afonso  actor    French captain   \n",
       "104905  Treasure Island  1999    Lance (II) Baker  actor             Frank   \n",
       "\n",
       "           n  \n",
       "313097   1.0  \n",
       "345942   5.0  \n",
       "8570     NaN  \n",
       "12141   26.0  \n",
       "38151   18.0  \n",
       "484325   1.0  \n",
       "14899    8.0  \n",
       "104905   1.0  "
      ]
     },
     "execution_count": 99,
     "metadata": {},
     "output_type": "execute_result"
    }
   ],
   "source": [
    "Treasure_movies=cast.loc[cast['title']=='Treasure Island']\n",
    "Treasure_movies=Treasure_movies.drop_duplicates(subset='year', keep='first')\n",
    "Treasure_movies.sort_values('year', ascending=True)\n"
   ]
  },
  {
   "cell_type": "markdown",
   "metadata": {},
   "source": [
    "## part 3:\n"
   ]
  },
  {
   "cell_type": "markdown",
   "metadata": {},
   "source": [
    "take only the movies from 1921:\n"
   ]
  },
  {
   "cell_type": "code",
   "execution_count": 236,
   "metadata": {},
   "outputs": [
    {
     "data": {
      "text/html": [
       "<div>\n",
       "<style scoped>\n",
       "    .dataframe tbody tr th:only-of-type {\n",
       "        vertical-align: middle;\n",
       "    }\n",
       "\n",
       "    .dataframe tbody tr th {\n",
       "        vertical-align: top;\n",
       "    }\n",
       "\n",
       "    .dataframe thead th {\n",
       "        text-align: right;\n",
       "    }\n",
       "</style>\n",
       "<table border=\"1\" class=\"dataframe\">\n",
       "  <thead>\n",
       "    <tr style=\"text-align: right;\">\n",
       "      <th></th>\n",
       "      <th>title</th>\n",
       "      <th>year</th>\n",
       "      <th>name</th>\n",
       "      <th>type</th>\n",
       "      <th>character</th>\n",
       "      <th>n</th>\n",
       "    </tr>\n",
       "  </thead>\n",
       "  <tbody>\n",
       "    <tr>\n",
       "      <th>6710</th>\n",
       "      <td>Hamlet</td>\n",
       "      <td>1921</td>\n",
       "      <td>Fritz Achterberg</td>\n",
       "      <td>actor</td>\n",
       "      <td>Fortinbras,</td>\n",
       "      <td>9.0</td>\n",
       "    </tr>\n",
       "    <tr>\n",
       "      <th>408456</th>\n",
       "      <td>Hamlet</td>\n",
       "      <td>1921</td>\n",
       "      <td>Paul Conradi</td>\n",
       "      <td>actor</td>\n",
       "      <td>K?nig Hamlet</td>\n",
       "      <td>2.0</td>\n",
       "    </tr>\n",
       "    <tr>\n",
       "      <th>495468</th>\n",
       "      <td>Hamlet</td>\n",
       "      <td>1921</td>\n",
       "      <td>Anton De Verdier</td>\n",
       "      <td>actor</td>\n",
       "      <td>Laertes</td>\n",
       "      <td>7.0</td>\n",
       "    </tr>\n",
       "    <tr>\n",
       "      <th>1015046</th>\n",
       "      <td>Hamlet</td>\n",
       "      <td>1921</td>\n",
       "      <td>Hans Junkermann</td>\n",
       "      <td>actor</td>\n",
       "      <td>Polonius</td>\n",
       "      <td>6.0</td>\n",
       "    </tr>\n",
       "    <tr>\n",
       "      <th>1948795</th>\n",
       "      <td>Hamlet</td>\n",
       "      <td>1921</td>\n",
       "      <td>Heinz Stieda</td>\n",
       "      <td>actor</td>\n",
       "      <td>Horatio</td>\n",
       "      <td>5.0</td>\n",
       "    </tr>\n",
       "    <tr>\n",
       "      <th>2116906</th>\n",
       "      <td>Hamlet</td>\n",
       "      <td>1921</td>\n",
       "      <td>Eduard von Winterstein</td>\n",
       "      <td>actor</td>\n",
       "      <td>Claudius</td>\n",
       "      <td>4.0</td>\n",
       "    </tr>\n",
       "    <tr>\n",
       "      <th>2370048</th>\n",
       "      <td>Hamlet</td>\n",
       "      <td>1921</td>\n",
       "      <td>Mathilde Brandt</td>\n",
       "      <td>actress</td>\n",
       "      <td>K?nigin Gertrude</td>\n",
       "      <td>3.0</td>\n",
       "    </tr>\n",
       "    <tr>\n",
       "      <th>2713980</th>\n",
       "      <td>Hamlet</td>\n",
       "      <td>1921</td>\n",
       "      <td>Lilly Jacobson</td>\n",
       "      <td>actress</td>\n",
       "      <td>Ophelia</td>\n",
       "      <td>8.0</td>\n",
       "    </tr>\n",
       "    <tr>\n",
       "      <th>2964897</th>\n",
       "      <td>Hamlet</td>\n",
       "      <td>1921</td>\n",
       "      <td>Asta Nielsen</td>\n",
       "      <td>actress</td>\n",
       "      <td>Hamlet</td>\n",
       "      <td>1.0</td>\n",
       "    </tr>\n",
       "  </tbody>\n",
       "</table>\n",
       "</div>"
      ],
      "text/plain": [
       "          title  year                    name     type         character    n\n",
       "6710     Hamlet  1921        Fritz Achterberg    actor       Fortinbras,  9.0\n",
       "408456   Hamlet  1921            Paul Conradi    actor      K?nig Hamlet  2.0\n",
       "495468   Hamlet  1921        Anton De Verdier    actor           Laertes  7.0\n",
       "1015046  Hamlet  1921         Hans Junkermann    actor          Polonius  6.0\n",
       "1948795  Hamlet  1921            Heinz Stieda    actor           Horatio  5.0\n",
       "2116906  Hamlet  1921  Eduard von Winterstein    actor          Claudius  4.0\n",
       "2370048  Hamlet  1921         Mathilde Brandt  actress  K?nigin Gertrude  3.0\n",
       "2713980  Hamlet  1921          Lilly Jacobson  actress           Ophelia  8.0\n",
       "2964897  Hamlet  1921            Asta Nielsen  actress            Hamlet  1.0"
      ]
     },
     "execution_count": 236,
     "metadata": {},
     "output_type": "execute_result"
    }
   ],
   "source": [
    "Hamlet_movies.loc[cast['year']==1921]\n"
   ]
  },
  {
   "cell_type": "markdown",
   "metadata": {},
   "source": [
    "there are 9 roles in this movie"
   ]
  },
  {
   "cell_type": "markdown",
   "metadata": {},
   "source": [
    "## part 4:\n",
    "\n"
   ]
  },
  {
   "cell_type": "markdown",
   "metadata": {},
   "source": [
    "once we  divided the year by 10,its ruonded the number(without the modulo) so when we multyply it by 10 again, it gaves the correct decades."
   ]
  },
  {
   "cell_type": "code",
   "execution_count": 237,
   "metadata": {},
   "outputs": [
    {
     "data": {
      "text/plain": [
       "year\n",
       "1910    3\n",
       "1920    1\n",
       "1940    1\n",
       "1950    1\n",
       "1960    2\n",
       "1970    2\n",
       "1980    1\n",
       "1990    2\n",
       "2000    2\n",
       "2010    2\n",
       "dtype: int64"
      ]
     },
     "execution_count": 237,
     "metadata": {},
     "output_type": "execute_result"
    }
   ],
   "source": [
    "decades=Hamlet_years.groupby((Hamlet_movies['year']//10*10)).size()\n",
    "decades"
   ]
  },
  {
   "cell_type": "markdown",
   "metadata": {},
   "source": [
    "## part 5:\n",
    "\n"
   ]
  },
  {
   "cell_type": "markdown",
   "metadata": {},
   "source": [
    "check about the actress and actors separately"
   ]
  },
  {
   "cell_type": "code",
   "execution_count": 139,
   "metadata": {},
   "outputs": [
    {
     "name": "stdout",
     "output_type": "stream",
     "text": [
      "actors:\n",
      "year\n",
      "1950    604\n",
      "1951    633\n",
      "1952    591\n",
      "1953    634\n",
      "1954    626\n",
      "1955    606\n",
      "1956    614\n",
      "1957    708\n",
      "1958    694\n",
      "1959    678\n",
      "dtype: int64\n",
      "\n",
      "actress:\n",
      "year\n",
      "1950    271\n",
      "1951    272\n",
      "1952    284\n",
      "1953    290\n",
      "1954    298\n",
      "1955    264\n",
      "1956    288\n",
      "1957    284\n",
      "1958    275\n",
      "1959    287\n",
      "dtype: int64\n"
     ]
    }
   ],
   "source": [
    "#select by n (lead actor)\n",
    "cast1=cast.loc[cast['n']==1]\n",
    "# select. again by the years 1950-1959\n",
    "years1=cast1.loc[cast1['year']>=1950].loc[cast1['year']<1960].loc[cast1['type']=='actor']\n",
    "print (\"actors:\")\n",
    "       \n",
    "print (years1.groupby('year').size())\n",
    "print ()\n",
    "\n",
    "years2=cast1.loc[cast1['year']>=1950].loc[cast1['year']<1960].loc[cast1['type']=='actress']\n",
    "print (\"actress:\")\n",
    "print(years2.groupby('year').size())\n"
   ]
  },
  {
   "cell_type": "markdown",
   "metadata": {},
   "source": [
    "## part 6:"
   ]
  },
  {
   "cell_type": "markdown",
   "metadata": {},
   "source": [
    "create a dataframe by the years above 1950, and cuont how many times any actors and actress play the lead role."
   ]
  },
  {
   "cell_type": "code",
   "execution_count": 160,
   "metadata": {},
   "outputs": [
    {
     "data": {
      "text/plain": [
       "Mohanlal              126\n",
       "Mammootty             118\n",
       "Akshay Kumar           87\n",
       "Jayaram                76\n",
       "Andy Lau               72\n",
       "Ajay Devgn             69\n",
       "Amitabh Bachchan       68\n",
       "Eric Roberts           68\n",
       "Nagarjuna Akkineni     60\n",
       "Dilip                  59\n",
       "Name: name, dtype: int64"
      ]
     },
     "execution_count": 160,
     "metadata": {},
     "output_type": "execute_result"
    }
   ],
   "source": [
    "years3=cast1.loc[cast1['year']>=1990]\n",
    "years3['name'].value_counts().head (10)"
   ]
  },
  {
   "cell_type": "markdown",
   "metadata": {},
   "source": [
    "## part 7:"
   ]
  },
  {
   "cell_type": "markdown",
   "metadata": {},
   "source": [
    "<B> list of the years that Frank Oz play more than one role:"
   ]
  },
  {
   "cell_type": "code",
   "execution_count": 240,
   "metadata": {},
   "outputs": [
    {
     "data": {
      "text/plain": [
       "year  title                                   \n",
       "1979  The Muppet Movie                            8\n",
       "1981  An American Werewolf in London              2\n",
       "      The Great Muppet Caper                      6\n",
       "1982  The Dark Crystal                            2\n",
       "1984  The Muppets Take Manhattan                  7\n",
       "1985  Sesame Street Presents: Follow that Bird    3\n",
       "1992  The Muppet Christmas Carol                  7\n",
       "1996  Muppet Treasure Island                      4\n",
       "1999  Muppets from Space                          4\n",
       "      The Adventures of Elmo in Grouchland        3\n",
       "dtype: int64"
      ]
     },
     "execution_count": 240,
     "metadata": {},
     "output_type": "execute_result"
    }
   ],
   "source": [
    "# sorting by  the actor (Franck) and by year \n",
    "oz=cast[cast.name=='Frank Oz']\n",
    "oz1=oz.sort_values('year')\n",
    "# data that organized by the title and the year of the movie\n",
    "oz2=oz1.groupby(['year', 'title']).size()\n",
    "# show only from one role and above\n",
    "oz2[oz2>1]\n"
   ]
  },
  {
   "cell_type": "code",
   "execution_count": null,
   "metadata": {},
   "outputs": [],
   "source": []
  }
 ],
 "metadata": {
  "kernelspec": {
   "display_name": "Python 3",
   "language": "python",
   "name": "python3"
  },
  "language_info": {
   "codemirror_mode": {
    "name": "ipython",
    "version": 3
   },
   "file_extension": ".py",
   "mimetype": "text/x-python",
   "name": "python",
   "nbconvert_exporter": "python",
   "pygments_lexer": "ipython3",
   "version": "3.8.5"
  }
 },
 "nbformat": 4,
 "nbformat_minor": 4
}
