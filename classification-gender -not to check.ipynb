{
 "cells": [
  {
   "cell_type": "markdown",
   "metadata": {},
   "source": [
    "# classification male/female\n",
    "<B> in this dataset,I have chosen to deal with the gender classification of human beings based on facial structure"
   ]
  },
  {
   "cell_type": "code",
   "execution_count": 172,
   "metadata": {},
   "outputs": [],
   "source": [
    "import numpy as np \n",
    "import pandas as pd\n",
    "import seaborn as sns\n",
    "sns.set()\n",
    "import matplotlib.pyplot as plt \n",
    "from numpy import cov"
   ]
  },
  {
   "cell_type": "code",
   "execution_count": 173,
   "metadata": {
    "scrolled": true
   },
   "outputs": [
    {
     "data": {
      "text/html": [
       "<div>\n",
       "<style scoped>\n",
       "    .dataframe tbody tr th:only-of-type {\n",
       "        vertical-align: middle;\n",
       "    }\n",
       "\n",
       "    .dataframe tbody tr th {\n",
       "        vertical-align: top;\n",
       "    }\n",
       "\n",
       "    .dataframe thead th {\n",
       "        text-align: right;\n",
       "    }\n",
       "</style>\n",
       "<table border=\"1\" class=\"dataframe\">\n",
       "  <thead>\n",
       "    <tr style=\"text-align: right;\">\n",
       "      <th></th>\n",
       "      <th>long_hair</th>\n",
       "      <th>forehead_width_cm</th>\n",
       "      <th>forehead_height_cm</th>\n",
       "      <th>nose_wide</th>\n",
       "      <th>nose_long</th>\n",
       "      <th>lips_thin</th>\n",
       "      <th>distance_nose_to_lip_long</th>\n",
       "      <th>gender</th>\n",
       "    </tr>\n",
       "  </thead>\n",
       "  <tbody>\n",
       "    <tr>\n",
       "      <th>0</th>\n",
       "      <td>1</td>\n",
       "      <td>11.8</td>\n",
       "      <td>6.1</td>\n",
       "      <td>1</td>\n",
       "      <td>0</td>\n",
       "      <td>1</td>\n",
       "      <td>1</td>\n",
       "      <td>Male</td>\n",
       "    </tr>\n",
       "    <tr>\n",
       "      <th>1</th>\n",
       "      <td>0</td>\n",
       "      <td>14.0</td>\n",
       "      <td>5.4</td>\n",
       "      <td>0</td>\n",
       "      <td>0</td>\n",
       "      <td>1</td>\n",
       "      <td>0</td>\n",
       "      <td>Female</td>\n",
       "    </tr>\n",
       "    <tr>\n",
       "      <th>2</th>\n",
       "      <td>0</td>\n",
       "      <td>11.8</td>\n",
       "      <td>6.3</td>\n",
       "      <td>1</td>\n",
       "      <td>1</td>\n",
       "      <td>1</td>\n",
       "      <td>1</td>\n",
       "      <td>Male</td>\n",
       "    </tr>\n",
       "    <tr>\n",
       "      <th>3</th>\n",
       "      <td>0</td>\n",
       "      <td>14.4</td>\n",
       "      <td>6.1</td>\n",
       "      <td>0</td>\n",
       "      <td>1</td>\n",
       "      <td>1</td>\n",
       "      <td>1</td>\n",
       "      <td>Male</td>\n",
       "    </tr>\n",
       "    <tr>\n",
       "      <th>4</th>\n",
       "      <td>1</td>\n",
       "      <td>13.5</td>\n",
       "      <td>5.9</td>\n",
       "      <td>0</td>\n",
       "      <td>0</td>\n",
       "      <td>0</td>\n",
       "      <td>0</td>\n",
       "      <td>Female</td>\n",
       "    </tr>\n",
       "    <tr>\n",
       "      <th>...</th>\n",
       "      <td>...</td>\n",
       "      <td>...</td>\n",
       "      <td>...</td>\n",
       "      <td>...</td>\n",
       "      <td>...</td>\n",
       "      <td>...</td>\n",
       "      <td>...</td>\n",
       "      <td>...</td>\n",
       "    </tr>\n",
       "    <tr>\n",
       "      <th>4996</th>\n",
       "      <td>1</td>\n",
       "      <td>13.6</td>\n",
       "      <td>5.1</td>\n",
       "      <td>0</td>\n",
       "      <td>0</td>\n",
       "      <td>0</td>\n",
       "      <td>0</td>\n",
       "      <td>Female</td>\n",
       "    </tr>\n",
       "    <tr>\n",
       "      <th>4997</th>\n",
       "      <td>1</td>\n",
       "      <td>11.9</td>\n",
       "      <td>5.4</td>\n",
       "      <td>0</td>\n",
       "      <td>0</td>\n",
       "      <td>0</td>\n",
       "      <td>0</td>\n",
       "      <td>Female</td>\n",
       "    </tr>\n",
       "    <tr>\n",
       "      <th>4998</th>\n",
       "      <td>1</td>\n",
       "      <td>12.9</td>\n",
       "      <td>5.7</td>\n",
       "      <td>0</td>\n",
       "      <td>0</td>\n",
       "      <td>0</td>\n",
       "      <td>0</td>\n",
       "      <td>Female</td>\n",
       "    </tr>\n",
       "    <tr>\n",
       "      <th>4999</th>\n",
       "      <td>1</td>\n",
       "      <td>13.2</td>\n",
       "      <td>6.2</td>\n",
       "      <td>0</td>\n",
       "      <td>0</td>\n",
       "      <td>0</td>\n",
       "      <td>0</td>\n",
       "      <td>Female</td>\n",
       "    </tr>\n",
       "    <tr>\n",
       "      <th>5000</th>\n",
       "      <td>1</td>\n",
       "      <td>15.4</td>\n",
       "      <td>5.4</td>\n",
       "      <td>1</td>\n",
       "      <td>1</td>\n",
       "      <td>1</td>\n",
       "      <td>1</td>\n",
       "      <td>Male</td>\n",
       "    </tr>\n",
       "  </tbody>\n",
       "</table>\n",
       "<p>5001 rows × 8 columns</p>\n",
       "</div>"
      ],
      "text/plain": [
       "      long_hair  forehead_width_cm  forehead_height_cm  nose_wide  nose_long  \\\n",
       "0             1               11.8                 6.1          1          0   \n",
       "1             0               14.0                 5.4          0          0   \n",
       "2             0               11.8                 6.3          1          1   \n",
       "3             0               14.4                 6.1          0          1   \n",
       "4             1               13.5                 5.9          0          0   \n",
       "...         ...                ...                 ...        ...        ...   \n",
       "4996          1               13.6                 5.1          0          0   \n",
       "4997          1               11.9                 5.4          0          0   \n",
       "4998          1               12.9                 5.7          0          0   \n",
       "4999          1               13.2                 6.2          0          0   \n",
       "5000          1               15.4                 5.4          1          1   \n",
       "\n",
       "      lips_thin  distance_nose_to_lip_long  gender  \n",
       "0             1                          1    Male  \n",
       "1             1                          0  Female  \n",
       "2             1                          1    Male  \n",
       "3             1                          1    Male  \n",
       "4             0                          0  Female  \n",
       "...         ...                        ...     ...  \n",
       "4996          0                          0  Female  \n",
       "4997          0                          0  Female  \n",
       "4998          0                          0  Female  \n",
       "4999          0                          0  Female  \n",
       "5000          1                          1    Male  \n",
       "\n",
       "[5001 rows x 8 columns]"
      ]
     },
     "execution_count": 173,
     "metadata": {},
     "output_type": "execute_result"
    }
   ],
   "source": [
    "person=pd.read_csv('/Users/ortal/Desktop/OneDrive - Ariel University/שיעורים/AI/proiect/dataset/gender_classification_v7.csv')\n",
    "person\n"
   ]
  },
  {
   "cell_type": "markdown",
   "metadata": {},
   "source": [
    "<B> Explanation of features"
   ]
  },
  {
   "cell_type": "markdown",
   "metadata": {},
   "source": [
    "<b>long hair:</b> boolean features. if the hair is short=0, if it's long=1.\\\n",
    "<b>forehead_width_cm:</b> the width of the forehead in cm.\\\n",
    "<b>forehead_height_cm:</b>the hught of the forehead in cm.\\\n",
    "<b>nose_wide:</b>boolean features. if the nose is wide=1, if it's thin=0.\\\n",
    "<b>nose_long:</b>boolean features. if the nose is short=0, if it's long=1.\\\n",
    "<b>lips_thin:</b>boolean features. if the lips are thin =1, if they width=0.\\\n",
    "<b>distance_nose_to_lip_long:</b> boolean features. if the distance between the nose and the lip is short=0, if it's long=1.\\\n",
    "gender: male or female\\\n",
    "\n",
    "<B>Note - I did not find according to what the ratio is defined as long and short, and therefore please assume that it was defined after a general average calculation of the relevant parameters in the population \n",
    "\n",
    "    \n",
    "    "
   ]
  },
  {
   "cell_type": "code",
   "execution_count": 174,
   "metadata": {},
   "outputs": [
    {
     "name": "stdout",
     "output_type": "stream",
     "text": [
      "<class 'pandas.core.frame.DataFrame'>\n",
      "RangeIndex: 5001 entries, 0 to 5000\n",
      "Data columns (total 8 columns):\n",
      " #   Column                     Non-Null Count  Dtype  \n",
      "---  ------                     --------------  -----  \n",
      " 0   long_hair                  5001 non-null   int64  \n",
      " 1   forehead_width_cm          5001 non-null   float64\n",
      " 2   forehead_height_cm         5001 non-null   float64\n",
      " 3   nose_wide                  5001 non-null   int64  \n",
      " 4   nose_long                  5001 non-null   int64  \n",
      " 5   lips_thin                  5001 non-null   int64  \n",
      " 6   distance_nose_to_lip_long  5001 non-null   int64  \n",
      " 7   gender                     5001 non-null   object \n",
      "dtypes: float64(2), int64(5), object(1)\n",
      "memory usage: 312.7+ KB\n"
     ]
    }
   ],
   "source": [
    "#  check if there is null, get basic information about the data\n",
    "person.info()"
   ]
  },
  {
   "cell_type": "markdown",
   "metadata": {},
   "source": [
    "There is 5000 raws and 8 columns. \n",
    "There is no null values in this dataFrame"
   ]
  },
  {
   "cell_type": "markdown",
   "metadata": {},
   "source": [
    "Note that \"gender\" is categorical feature, so lets change it to numerical:\n",
    "males=0 females=1:"
   ]
  },
  {
   "cell_type": "code",
   "execution_count": 175,
   "metadata": {},
   "outputs": [
    {
     "data": {
      "text/plain": [
       "1    2501\n",
       "0    2500\n",
       "Name: gender_code, dtype: int64"
      ]
     },
     "execution_count": 175,
     "metadata": {},
     "output_type": "execute_result"
    }
   ],
   "source": [
    "person['gender_code']=pd.factorize(person.gender)[0]\n",
    "person.gender_code.value_counts()"
   ]
  },
  {
   "cell_type": "code",
   "execution_count": 176,
   "metadata": {},
   "outputs": [
    {
     "data": {
      "text/html": [
       "<div>\n",
       "<style scoped>\n",
       "    .dataframe tbody tr th:only-of-type {\n",
       "        vertical-align: middle;\n",
       "    }\n",
       "\n",
       "    .dataframe tbody tr th {\n",
       "        vertical-align: top;\n",
       "    }\n",
       "\n",
       "    .dataframe thead th {\n",
       "        text-align: right;\n",
       "    }\n",
       "</style>\n",
       "<table border=\"1\" class=\"dataframe\">\n",
       "  <thead>\n",
       "    <tr style=\"text-align: right;\">\n",
       "      <th></th>\n",
       "      <th>long_hair</th>\n",
       "      <th>forehead_width_cm</th>\n",
       "      <th>forehead_height_cm</th>\n",
       "      <th>nose_wide</th>\n",
       "      <th>nose_long</th>\n",
       "      <th>lips_thin</th>\n",
       "      <th>distance_nose_to_lip_long</th>\n",
       "      <th>gender</th>\n",
       "      <th>gender_code</th>\n",
       "    </tr>\n",
       "  </thead>\n",
       "  <tbody>\n",
       "    <tr>\n",
       "      <th>0</th>\n",
       "      <td>1</td>\n",
       "      <td>11.8</td>\n",
       "      <td>6.1</td>\n",
       "      <td>1</td>\n",
       "      <td>0</td>\n",
       "      <td>1</td>\n",
       "      <td>1</td>\n",
       "      <td>Male</td>\n",
       "      <td>0</td>\n",
       "    </tr>\n",
       "    <tr>\n",
       "      <th>1</th>\n",
       "      <td>0</td>\n",
       "      <td>14.0</td>\n",
       "      <td>5.4</td>\n",
       "      <td>0</td>\n",
       "      <td>0</td>\n",
       "      <td>1</td>\n",
       "      <td>0</td>\n",
       "      <td>Female</td>\n",
       "      <td>1</td>\n",
       "    </tr>\n",
       "    <tr>\n",
       "      <th>2</th>\n",
       "      <td>0</td>\n",
       "      <td>11.8</td>\n",
       "      <td>6.3</td>\n",
       "      <td>1</td>\n",
       "      <td>1</td>\n",
       "      <td>1</td>\n",
       "      <td>1</td>\n",
       "      <td>Male</td>\n",
       "      <td>0</td>\n",
       "    </tr>\n",
       "    <tr>\n",
       "      <th>3</th>\n",
       "      <td>0</td>\n",
       "      <td>14.4</td>\n",
       "      <td>6.1</td>\n",
       "      <td>0</td>\n",
       "      <td>1</td>\n",
       "      <td>1</td>\n",
       "      <td>1</td>\n",
       "      <td>Male</td>\n",
       "      <td>0</td>\n",
       "    </tr>\n",
       "    <tr>\n",
       "      <th>4</th>\n",
       "      <td>1</td>\n",
       "      <td>13.5</td>\n",
       "      <td>5.9</td>\n",
       "      <td>0</td>\n",
       "      <td>0</td>\n",
       "      <td>0</td>\n",
       "      <td>0</td>\n",
       "      <td>Female</td>\n",
       "      <td>1</td>\n",
       "    </tr>\n",
       "  </tbody>\n",
       "</table>\n",
       "</div>"
      ],
      "text/plain": [
       "   long_hair  forehead_width_cm  forehead_height_cm  nose_wide  nose_long  \\\n",
       "0          1               11.8                 6.1          1          0   \n",
       "1          0               14.0                 5.4          0          0   \n",
       "2          0               11.8                 6.3          1          1   \n",
       "3          0               14.4                 6.1          0          1   \n",
       "4          1               13.5                 5.9          0          0   \n",
       "\n",
       "   lips_thin  distance_nose_to_lip_long  gender  gender_code  \n",
       "0          1                          1    Male            0  \n",
       "1          1                          0  Female            1  \n",
       "2          1                          1    Male            0  \n",
       "3          1                          1    Male            0  \n",
       "4          0                          0  Female            1  "
      ]
     },
     "execution_count": 176,
     "metadata": {},
     "output_type": "execute_result"
    }
   ],
   "source": [
    "person.head()\n"
   ]
  },
  {
   "cell_type": "markdown",
   "metadata": {},
   "source": [
    "<B>now we can see that there is 2501 sumples of males and 2500 sumples of females.\n",
    "\n"
   ]
  },
  {
   "cell_type": "code",
   "execution_count": 177,
   "metadata": {},
   "outputs": [
    {
     "data": {
      "text/html": [
       "<div>\n",
       "<style scoped>\n",
       "    .dataframe tbody tr th:only-of-type {\n",
       "        vertical-align: middle;\n",
       "    }\n",
       "\n",
       "    .dataframe tbody tr th {\n",
       "        vertical-align: top;\n",
       "    }\n",
       "\n",
       "    .dataframe thead th {\n",
       "        text-align: right;\n",
       "    }\n",
       "</style>\n",
       "<table border=\"1\" class=\"dataframe\">\n",
       "  <thead>\n",
       "    <tr style=\"text-align: right;\">\n",
       "      <th></th>\n",
       "      <th>long_hair</th>\n",
       "      <th>forehead_width_cm</th>\n",
       "      <th>forehead_height_cm</th>\n",
       "      <th>nose_wide</th>\n",
       "      <th>nose_long</th>\n",
       "      <th>lips_thin</th>\n",
       "      <th>distance_nose_to_lip_long</th>\n",
       "    </tr>\n",
       "    <tr>\n",
       "      <th>gender_code</th>\n",
       "      <th></th>\n",
       "      <th></th>\n",
       "      <th></th>\n",
       "      <th></th>\n",
       "      <th></th>\n",
       "      <th></th>\n",
       "      <th></th>\n",
       "    </tr>\n",
       "  </thead>\n",
       "  <tbody>\n",
       "    <tr>\n",
       "      <th>0</th>\n",
       "      <td>0.866000</td>\n",
       "      <td>13.551440</td>\n",
       "      <td>6.096360</td>\n",
       "      <td>0.873200</td>\n",
       "      <td>0.880000</td>\n",
       "      <td>0.864800</td>\n",
       "      <td>0.876400</td>\n",
       "    </tr>\n",
       "    <tr>\n",
       "      <th>1</th>\n",
       "      <td>0.873251</td>\n",
       "      <td>12.811675</td>\n",
       "      <td>5.796321</td>\n",
       "      <td>0.114754</td>\n",
       "      <td>0.135946</td>\n",
       "      <td>0.121551</td>\n",
       "      <td>0.121551</td>\n",
       "    </tr>\n",
       "  </tbody>\n",
       "</table>\n",
       "</div>"
      ],
      "text/plain": [
       "             long_hair  forehead_width_cm  forehead_height_cm  nose_wide  \\\n",
       "gender_code                                                                \n",
       "0             0.866000          13.551440            6.096360   0.873200   \n",
       "1             0.873251          12.811675            5.796321   0.114754   \n",
       "\n",
       "             nose_long  lips_thin  distance_nose_to_lip_long  \n",
       "gender_code                                                   \n",
       "0             0.880000   0.864800                   0.876400  \n",
       "1             0.135946   0.121551                   0.121551  "
      ]
     },
     "execution_count": 177,
     "metadata": {},
     "output_type": "execute_result"
    }
   ],
   "source": [
    "person.groupby(['gender_code']).mean()"
   ]
  },
  {
   "cell_type": "markdown",
   "metadata": {},
   "source": [
    "להגדיר יותר טוב את ציר הוואי לפי הפרמטקים הנכונים ןלהצליח לסדר את הגודל של הגרף כך שהמקרא יתאים."
   ]
  },
  {
   "cell_type": "code",
   "execution_count": 52,
   "metadata": {},
   "outputs": [
    {
     "data": {
      "text/plain": [
       "<Figure size 1440x1440 with 0 Axes>"
      ]
     },
     "metadata": {},
     "output_type": "display_data"
    },
    {
     "data": {
      "image/png": "[encoded data removed]",
      "text/plain": [
       "<Figure size 720x432 with 1 Axes>"
      ]
     },
     "metadata": {},
     "output_type": "display_data"
    }
   ],
   "source": [
    "from matplotlib.ticker import FuncFormatter\n",
    "plt.figure(figsize=(20,20))\n",
    "\n",
    "person.groupby(['gender']).mean().plot(kind='bar',figsize=(10,6))\n",
    "\n",
    "\n",
    "plt.ylim(0.0, 14.0)\n",
    "plt.legend(loc='center')\n",
    "\n",
    "plt\n",
    "\n",
    "plt.title('avarage parameters per gender')\n",
    "\n",
    "plt.show()\n"
   ]
  },
  {
   "cell_type": "markdown",
   "metadata": {},
   "source": [
    "lets loock at the distribution:"
   ]
  },
  {
   "cell_type": "code",
   "execution_count": 53,
   "metadata": {},
   "outputs": [
    {
     "data": {
      "image/png": "[encoded data removed]",
      "text/plain": [
       "<Figure size 432x288 with 1 Axes>"
      ]
     },
     "metadata": {},
     "output_type": "display_data"
    }
   ],
   "source": [
    "person.groupby(['long_hair','gender']).size().unstack().plot(kind='bar')\n",
    "\n",
    "plt.title('long hair per gender')\n",
    "plt.show()"
   ]
  },
  {
   "cell_type": "code",
   "execution_count": 54,
   "metadata": {},
   "outputs": [
    {
     "data": {
      "image/png": "[encoded data removed]",
      "text/plain": [
       "<Figure size 432x288 with 1 Axes>"
      ]
     },
     "metadata": {},
     "output_type": "display_data"
    },
    {
     "data": {
      "image/png": "[encoded data removed]",
      "text/plain": [
       "<Figure size 432x288 with 1 Axes>"
      ]
     },
     "metadata": {},
     "output_type": "display_data"
    }
   ],
   "source": [
    "person.groupby(['forehead_width_cm','gender']).size().unstack().plot(kind='bar')\n",
    "plt.title('forehead width per gender')\n",
    "person.groupby(['forehead_height_cm','gender']).size().unstack().plot(kind='bar')\n",
    "plt.title('forehead hight per gender')\n",
    "\n",
    "\n",
    "plt.show()"
   ]
  },
  {
   "cell_type": "code",
   "execution_count": 190,
   "metadata": {},
   "outputs": [
    {
     "data": {
      "image/png": "[encoded data removed]",
      "text/plain": [
       "<Figure size 432x288 with 1 Axes>"
      ]
     },
     "metadata": {},
     "output_type": "display_data"
    },
    {
     "data": {
      "image/png": "[encoded data removed]",
      "text/plain": [
       "<Figure size 432x288 with 1 Axes>"
      ]
     },
     "metadata": {},
     "output_type": "display_data"
    }
   ],
   "source": [
    "person.groupby(['nose_wide','gender']).size().unstack().plot(kind='bar')\n",
    "plt.title('nose wide per gender')\n",
    "person.groupby(['nose_long','gender']).size().unstack().plot(kind='bar')\n",
    "plt.title('nose long per gender')\n",
    "plt.show()"
   ]
  },
  {
   "cell_type": "code",
   "execution_count": 196,
   "metadata": {},
   "outputs": [
    {
     "data": {
      "image/png": "[encoded data removed]",
      "text/plain": [
       "<Figure size 432x288 with 1 Axes>"
      ]
     },
     "metadata": {},
     "output_type": "display_data"
    },
    {
     "data": {
      "image/png": "[encoded data removed]",
      "text/plain": [
       "<Figure size 432x288 with 1 Axes>"
      ]
     },
     "metadata": {},
     "output_type": "display_data"
    }
   ],
   "source": [
    "person.groupby(['lips_thin','gender']).size().unstack().plot(kind='bar')\n",
    "plt.title('lips thin per gender')\n",
    "person.groupby(['distance_nose_to_lip_long','gender']).size().unstack().plot(kind='bar')\n",
    "plt.title('distance from nose to lip  per gender')\n",
    "plt.show()"
   ]
  },
  {
   "cell_type": "markdown",
   "metadata": {},
   "source": [
    "let see the coroolation between the parameters :"
   ]
  },
  {
   "cell_type": "code",
   "execution_count": 178,
   "metadata": {
    "scrolled": false
   },
   "outputs": [
    {
     "data": {
      "text/plain": [
       "Text(0.5, 1.0, 'Correlation between facial features')"
      ]
     },
     "execution_count": 178,
     "metadata": {},
     "output_type": "execute_result"
    },
    {
     "data": {
      "image/png": "[encoded data removed]",
      "text/plain": [
       "<Figure size 720x576 with 2 Axes>"
      ]
     },
     "metadata": {},
     "output_type": "display_data"
    }
   ],
   "source": [
    "\n",
    "f, ax = plt.subplots(figsize=(10, 8))\n",
    "corr = person.corr()\n",
    "sns.heatmap(corr, vmax=1,annot=True,cmap='twilight', mask=mask.T,square=True)\n",
    "\n",
    "plt.title('Correlation between facial features')"
   ]
  },
  {
   "cell_type": "markdown",
   "metadata": {},
   "source": [
    "## it can be seen that there is no correlation between the parameters, and therefore one parameter does not indicate another."
   ]
  },
  {
   "cell_type": "markdown",
   "metadata": {},
   "source": [
    "train test split"
   ]
  },
  {
   "cell_type": "code",
   "execution_count": 180,
   "metadata": {},
   "outputs": [
    {
     "name": "stdout",
     "output_type": "stream",
     "text": [
      "x_train :  [[ 1.  14.   6.  ...  0.   0.   0. ]\n",
      " [ 1.  12.6  6.4 ...  1.   1.   1. ]\n",
      " [ 1.  13.1  6.5 ...  1.   1.   1. ]\n",
      " ...\n",
      " [ 1.  12.   5.9 ...  0.   0.   0. ]\n",
      " [ 1.  12.8  5.4 ...  0.   0.   0. ]\n",
      " [ 1.  11.4  5.5 ...  0.   0.   0. ]]\n",
      "x train size is: (3000, 7)\n",
      "\n",
      "x_test :  [[ 1.  13.2  5.7 ...  1.   1.   1. ]\n",
      " [ 1.  13.7  6.  ...  0.   0.   0. ]\n",
      " [ 0.  12.9  5.3 ...  0.   0.   1. ]\n",
      " ...\n",
      " [ 1.  13.9  6.5 ...  0.   0.   0. ]\n",
      " [ 1.  11.6  5.3 ...  0.   0.   0. ]\n",
      " [ 1.  14.3  5.9 ...  1.   1.   1. ]]\n",
      "x test size is: (2001, 7)\n",
      "\n",
      "y_train :  [1 0 0 ... 1 1 1]\n",
      "y train size is: (3000,)\n",
      "\n",
      "y_test :  [0 1 1 ... 1 1 0]\n",
      "y test size is: (2001,)\n",
      "\n"
     ]
    }
   ],
   "source": [
    "y = person.gender_code.values\n",
    "\n",
    "x = person[[\"long_hair\",\"forehead_width_cm\",\"forehead_height_cm\",\"nose_wide\",\"nose_long\",\"lips_thin\",\"distance_nose_to_lip_long\"]].values\n",
    "\n",
    "from sklearn.model_selection import train_test_split\n",
    "\n",
    "x_train, x_test, y_train, y_test = train_test_split(x, y, test_size = 0.4, random_state = 42)\n",
    "\n",
    "x_train = x_train.T\n",
    "x_train=x_train.transpose()\n",
    "x_test = x_test.T\n",
    "x_test=x_test.transpose()\n",
    "y_train = y_train.T\n",
    "y_test = y_test.T\n",
    "\n",
    "print(\"x_train : \",x_train)\n",
    "print ('x train size is:' ,x_train.shape)\n",
    "print ()\n",
    "print(\"x_test : \",x_test)\n",
    "print ('x test size is:' ,x_test.shape)\n",
    "print ()\n",
    "print(\"y_train : \",y_train)\n",
    "print ('y train size is:' ,y_train.shape)\n",
    "print ()\n",
    "print(\"y_test : \",y_test)\n",
    "print ('y test size is:' ,y_test.shape)\n",
    "print ()"
   ]
  },
  {
   "cell_type": "markdown",
   "metadata": {},
   "source": [
    "# knn model:"
   ]
  },
  {
   "cell_type": "markdown",
   "metadata": {},
   "source": [
    "### We will check in the range of 100 which accutacy we get with specific k, and get jast  the  accuracy above 0.97"
   ]
  },
  {
   "cell_type": "code",
   "execution_count": 181,
   "metadata": {},
   "outputs": [
    {
     "name": "stdout",
     "output_type": "stream",
     "text": [
      "for k= 15 the accuracy is: 0.9705147426286856\n",
      "for k= 17 the accuracy is: 0.9705147426286856\n",
      "for k= 22 the accuracy is: 0.9700149925037481\n",
      "for k= 23 the accuracy is: 0.9705147426286856\n",
      "for k= 24 the accuracy is: 0.9710144927536232\n",
      "for k= 25 the accuracy is: 0.9700149925037481\n",
      "for k= 27 the accuracy is: 0.9705147426286856\n",
      "for k= 28 the accuracy is: 0.9700149925037481\n",
      "for k= 29 the accuracy is: 0.9710144927536232\n",
      "for k= 31 the accuracy is: 0.9705147426286856\n",
      "for k= 32 the accuracy is: 0.9710144927536232\n",
      "for k= 33 the accuracy is: 0.9715142428785607\n",
      "for k= 34 the accuracy is: 0.9715142428785607\n",
      "for k= 35 the accuracy is: 0.9705147426286856\n",
      "for k= 36 the accuracy is: 0.9705147426286856\n",
      "for k= 37 the accuracy is: 0.9710144927536232\n",
      "for k= 38 the accuracy is: 0.9715142428785607\n",
      "for k= 39 the accuracy is: 0.9715142428785607\n",
      "for k= 40 the accuracy is: 0.9705147426286856\n",
      "for k= 41 the accuracy is: 0.9710144927536232\n",
      "for k= 42 the accuracy is: 0.9710144927536232\n",
      "for k= 43 the accuracy is: 0.9720139930034982\n",
      "for k= 44 the accuracy is: 0.9710144927536232\n",
      "for k= 45 the accuracy is: 0.9710144927536232\n",
      "for k= 46 the accuracy is: 0.9715142428785607\n",
      "for k= 47 the accuracy is: 0.9715142428785607\n",
      "for k= 48 the accuracy is: 0.9715142428785607\n",
      "for k= 49 the accuracy is: 0.9720139930034982\n",
      "for k= 50 the accuracy is: 0.9715142428785607\n",
      "for k= 51 the accuracy is: 0.9715142428785607\n",
      "for k= 52 the accuracy is: 0.9710144927536232\n",
      "for k= 53 the accuracy is: 0.9715142428785607\n",
      "for k= 54 the accuracy is: 0.9710144927536232\n",
      "for k= 55 the accuracy is: 0.9700149925037481\n",
      "for k= 56 the accuracy is: 0.9705147426286856\n",
      "for k= 57 the accuracy is: 0.9700149925037481\n",
      "for k= 58 the accuracy is: 0.9700149925037481\n",
      "for k= 60 the accuracy is: 0.9710144927536232\n",
      "for k= 61 the accuracy is: 0.9705147426286856\n",
      "for k= 62 the accuracy is: 0.9705147426286856\n",
      "for k= 63 the accuracy is: 0.9710144927536232\n",
      "for k= 64 the accuracy is: 0.9715142428785607\n",
      "for k= 65 the accuracy is: 0.9710144927536232\n",
      "for k= 66 the accuracy is: 0.9710144927536232\n",
      "for k= 67 the accuracy is: 0.9710144927536232\n",
      "for k= 68 the accuracy is: 0.9705147426286856\n",
      "for k= 69 the accuracy is: 0.9705147426286856\n",
      "for k= 70 the accuracy is: 0.9705147426286856\n",
      "for k= 71 the accuracy is: 0.9710144927536232\n",
      "for k= 72 the accuracy is: 0.9705147426286856\n",
      "for k= 73 the accuracy is: 0.9710144927536232\n",
      "for k= 74 the accuracy is: 0.9705147426286856\n",
      "for k= 75 the accuracy is: 0.9710144927536232\n",
      "for k= 76 the accuracy is: 0.9715142428785607\n",
      "for k= 77 the accuracy is: 0.9715142428785607\n",
      "for k= 78 the accuracy is: 0.9715142428785607\n",
      "for k= 79 the accuracy is: 0.9705147426286856\n",
      "for k= 80 the accuracy is: 0.9705147426286856\n",
      "for k= 81 the accuracy is: 0.9705147426286856\n",
      "for k= 82 the accuracy is: 0.9700149925037481\n",
      "for k= 83 the accuracy is: 0.9700149925037481\n",
      "for k= 84 the accuracy is: 0.9700149925037481\n",
      "for k= 85 the accuracy is: 0.9700149925037481\n",
      "for k= 86 the accuracy is: 0.9705147426286856\n",
      "for k= 87 the accuracy is: 0.9700149925037481\n",
      "for k= 88 the accuracy is: 0.9700149925037481\n",
      "for k= 89 the accuracy is: 0.9705147426286856\n",
      "for k= 90 the accuracy is: 0.9705147426286856\n",
      "for k= 91 the accuracy is: 0.9705147426286856\n",
      "for k= 92 the accuracy is: 0.9705147426286856\n",
      "for k= 93 the accuracy is: 0.9705147426286856\n",
      "for k= 94 the accuracy is: 0.9715142428785607\n",
      "for k= 95 the accuracy is: 0.9720139930034982\n",
      "for k= 96 the accuracy is: 0.9715142428785607\n",
      "for k= 97 the accuracy is: 0.9720139930034982\n",
      "for k= 98 the accuracy is: 0.9715142428785607\n",
      "for k= 99 the accuracy is: 0.9715142428785607\n"
     ]
    }
   ],
   "source": [
    "from sklearn.neighbors import KNeighborsClassifier\n",
    "from sklearn import metrics\n",
    "k_range = list(range(1, 100))\n",
    "scores = []\n",
    "for k in k_range:\n",
    "    knn = KNeighborsClassifier(n_neighbors=k)\n",
    "    knn.fit(x_train, y_train)\n",
    "    y_pred = knn.predict(x_test)\n",
    "    # calculate accuracy\n",
    "    mas=metrics.accuracy_score(y_test, y_pred)\n",
    "    if mas>=0.97:\n",
    "        print('for k=',k,'the accuracy is:', mas)"
   ]
  },
  {
   "cell_type": "markdown",
   "metadata": {},
   "source": [
    "It can be seen that the maximum accuracy is about 0.97 so i check wich k gives that:\n"
   ]
  },
  {
   "cell_type": "code",
   "execution_count": 182,
   "metadata": {},
   "outputs": [
    {
     "name": "stdout",
     "output_type": "stream",
     "text": [
      "for k= 43 the accuracy is: 0.9720139930034982\n",
      "for k= 49 the accuracy is: 0.9720139930034982\n",
      "for k= 95 the accuracy is: 0.9720139930034982\n",
      "for k= 97 the accuracy is: 0.9720139930034982\n"
     ]
    }
   ],
   "source": [
    "k_range = list(range(1, 100))\n",
    "scores = []\n",
    "for k in k_range:\n",
    "    knn = KNeighborsClassifier(n_neighbors=k)\n",
    "    knn.fit(x_train, y_train)\n",
    "    y_pred = knn.predict(x_test)\n",
    "    mas=metrics.accuracy_score(y_test, y_pred)\n",
    "    if mas>=0.972:\n",
    "        print('for k=',k,'the accuracy is:', mas)"
   ]
  },
  {
   "cell_type": "markdown",
   "metadata": {},
   "source": [
    "we can see that all this k gives the same accuracy, **so the final accuraccy is 0.9720139930034982**"
   ]
  },
  {
   "cell_type": "markdown",
   "metadata": {},
   "source": [
    " I check if by  doing cross validaion, I can get a better performance:"
   ]
  },
  {
   "cell_type": "code",
   "execution_count": 144,
   "metadata": {},
   "outputs": [
    {
     "name": "stdout",
     "output_type": "stream",
     "text": [
      "0.9732087824351296\n"
     ]
    }
   ],
   "source": [
    "from sklearn.model_selection import cross_val_score\n",
    "# 10-fold cross-validation\n",
    "knn = KNeighborsClassifier(n_neighbors=38)\n",
    "print(cross_val_score(knn, x, y, cv=10, scoring='accuracy').mean())"
   ]
  },
  {
   "cell_type": "markdown",
   "metadata": {},
   "source": [
    "It can be seen that the accuracy is not much different from the accuracy in the \"train test split\" method, and therefore it is the maximum accuracy\n"
   ]
  },
  {
   "cell_type": "markdown",
   "metadata": {},
   "source": [
    "lets calculate the confution metrics"
   ]
  },
  {
   "cell_type": "code",
   "execution_count": 188,
   "metadata": {},
   "outputs": [
    {
     "data": {
      "image/png": "[encoded data removed]",
      "text/plain": [
       "<Figure size 360x360 with 2 Axes>"
      ]
     },
     "metadata": {},
     "output_type": "display_data"
    }
   ],
   "source": [
    "confusion = metrics.confusion_matrix(y_test, y_pred)\n",
    "TP = confusion[1, 1]\n",
    "TN = confusion[0, 0]\n",
    "FP = confusion[0, 1]\n",
    "FN = confusion[1, 0]\n",
    "\n",
    "f, ax = plt.subplots(figsize = (5,5))\n",
    "#cm = confusion_matrix(y_test, knn.predict(x_test))\n",
    "sns.heatmap(confusion,annot = True, linewidth = 0.5, fmt = \".0f\", ax = ax)\n",
    "plt.show()"
   ]
  },
  {
   "cell_type": "code",
   "execution_count": 162,
   "metadata": {},
   "outputs": [
    {
     "name": "stdout",
     "output_type": "stream",
     "text": [
      "Out of 2001 samples the model was right in 1944 of the samples and wrong in 57 sampels\n",
      "Classification Accuracy: 0.9715142428785607\n",
      "Classification Error: 0.02848575712143928\n"
     ]
    }
   ],
   "source": [
    "print('Out of 2001 samples the model was right in',TP+TN,'of the samples and wrong in', FP+FN, 'sampels')\n",
    "# how often is the classifier correct?\n",
    "print('Classification Accuracy:',(TP + TN) / float(TP + TN + FP + FN))\n",
    "#how often is the classifier incorrect?\n",
    "print('Classification Error:',(FP + FN) / float(TP + TN + FP + FN))"
   ]
  },
  {
   "cell_type": "markdown",
   "metadata": {},
   "source": [
    "## to do:\n",
    "another model. \n",
    "Improve visibility\n"
   ]
  },
  {
   "cell_type": "code",
   "execution_count": null,
   "metadata": {},
   "outputs": [],
   "source": []
  }
 ],
 "metadata": {
  "kernelspec": {
   "display_name": "Python 3",
   "language": "python",
   "name": "python3"
  },
  "language_info": {
   "codemirror_mode": {
    "name": "ipython",
    "version": 3
   },
   "file_extension": ".py",
   "mimetype": "text/x-python",
   "name": "python",
   "nbconvert_exporter": "python",
   "pygments_lexer": "ipython3",
   "version": "3.8.5"
  }
 },
 "nbformat": 4,
 "nbformat_minor": 4
}
